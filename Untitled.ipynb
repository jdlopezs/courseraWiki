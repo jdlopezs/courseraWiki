{
 "cells": [
  {
   "cell_type": "code",
   "execution_count": null,
   "metadata": {},
   "outputs": [],
   "source": [
    "import numpy as np # library for vectorized computation\n",
    "import pandas as pd # library to process data as dataframes\n",
    "from bs4 import BeautifulSoup as bs\n",
    "import requests\n",
    "source = requests.get('https://en.wikipedia.org/wiki/List_of_postal_codes_of_Canada:_M').text\n",
    "soup = bs(source, 'lxml')\n",
    "tabla = soup.find('table')\n",
    "\n",
    "\n",
    "tablaome = []\n",
    "\n",
    "for cositos in tabla.find_all('tr'):\n",
    "\n",
    "\n",
    "    for barrios in cositos.find_all('td'):\n",
    "\n",
    "        asd=barrios.text\n",
    "        tablaome.append(asd)\n",
    "\n",
    "df = pd.DataFrame(np.array(tablaome).reshape(289,3), columns=['Postcode', 'Borough', 'Neighbourhood'])\n",
    "\n",
    "\n",
    "    \n",
    "df['Neighbourhood']=df['Neighbourhood'].str.rstrip('\\n')\n",
    "print(df.head(10))\n",
    "df.shape"
   ]
  }
 ],
 "metadata": {
  "kernelspec": {
   "display_name": "Python 3",
   "language": "python",
   "name": "python3"
  },
  "language_info": {
   "codemirror_mode": {
    "name": "ipython",
    "version": 3
   },
   "file_extension": ".py",
   "mimetype": "text/x-python",
   "name": "python",
   "nbconvert_exporter": "python",
   "pygments_lexer": "ipython3",
   "version": "3.6.5"
  }
 },
 "nbformat": 4,
 "nbformat_minor": 2
}
